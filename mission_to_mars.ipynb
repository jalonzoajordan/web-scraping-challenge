{
 "cells": [
  {
   "cell_type": "code",
   "execution_count": 1,
   "id": "b4200a3f",
   "metadata": {},
   "outputs": [],
   "source": [
    "import pandas as pd\n",
    "from splinter import Browser\n",
    "from bs4 import BeautifulSoup as bs\n",
    "from webdriver_manager.chrome import ChromeDriverManager"
   ]
  },
  {
   "cell_type": "code",
   "execution_count": 2,
   "id": "974d221a",
   "metadata": {},
   "outputs": [
    {
     "name": "stderr",
     "output_type": "stream",
     "text": [
      "\n",
      "\n",
      "====== WebDriver manager ======\n",
      "Current google-chrome version is 100.0.4896\n",
      "Get LATEST chromedriver version for 100.0.4896 google-chrome\n",
      "Trying to download new driver from https://chromedriver.storage.googleapis.com/100.0.4896.20/chromedriver_win32.zip\n",
      "Driver has been saved in cache [C:\\Users\\Education_Jalonzo\\.wdm\\drivers\\chromedriver\\win32\\100.0.4896.20]\n"
     ]
    }
   ],
   "source": [
    "#Set up scrape utilities\n",
    "#Splinter\n",
    "executable_path = {'executable_path': ChromeDriverManager().install()}\n",
    "browser = Browser('chrome', **executable_path, headless=False)"
   ]
  },
  {
   "cell_type": "code",
   "execution_count": 3,
   "id": "eb227fce",
   "metadata": {},
   "outputs": [],
   "source": [
    "#Scrape the Mars News Site and collect the latest News Title and Paragraph Text. (https://redplanetscience.com/)\n",
    "#Assign the text to variables that you can reference later.\n",
    "\n",
    "#visit the website\n",
    "url_MarsSite = \"https://redplanetscience.com/\"\n",
    "browser.visit(url_MarsSite)\n",
    "\n",
    "#scrape xml data into BeautifulSoup\n",
    "html = browser.html\n",
    "soup = bs(html, \"html.parser\")\n",
    "\n",
    "#get latest news title\n",
    "latest_NewsTitle = soup.find('div', {'class':'content_title'}).text\n",
    "\n",
    "#get latest paragraph text\n",
    "latest_NewsTest = soup.find('div', {'class':'article_teaser_body'}).text"
   ]
  },
  {
   "cell_type": "code",
   "execution_count": 4,
   "id": "108de611",
   "metadata": {},
   "outputs": [
    {
     "name": "stdout",
     "output_type": "stream",
     "text": [
      "The Extraordinary Sample-Gathering System of NASA's Perseverance Mars Rover\n",
      "Two astronauts collected Moon rocks on Apollo 11. It will take three robotic systems working together to gather up the first Mars rock samples for return to Earth.\n"
     ]
    }
   ],
   "source": [
    "print(latest_NewsTitle)\n",
    "print(latest_NewsTest)"
   ]
  },
  {
   "cell_type": "code",
   "execution_count": 5,
   "id": "ae7c79d8",
   "metadata": {},
   "outputs": [],
   "source": [
    "#visit the url for the image (https://spaceimages-mars.com/)\n",
    "url_Image = \"https://spaceimages-mars.com/\"\n",
    "browser.visit(url_Image)\n",
    "\n",
    "#scrape xml data into BeautifulSoup\n",
    "html = browser.html\n",
    "soup = bs(html, \"html.parser\")\n",
    "\n",
    "#Find the image url for the current Featured Mars Image and assign the url string to a variable called featured_image_url.\n",
    "featured_image_path = soup.find('img', {'class':'headerimage'})['src']\n",
    "featured_image_url = url_Image + featured_image_path"
   ]
  },
  {
   "cell_type": "code",
   "execution_count": 6,
   "id": "23b34a61",
   "metadata": {},
   "outputs": [],
   "source": [
    "#Visit the Mars Facts webpage and use Pandas to scrape the table containing facts about the planet including Diameter, \n",
    "#Mass, etc. (https://galaxyfacts-mars.com/)\n",
    "url_Facts = \"https://galaxyfacts-mars.com/\"\n",
    "\n",
    "#Since this is a table we can use pandas\n",
    "table_Facts = pd.read_html(url_Facts)\n",
    "\n",
    "#First table is about comparisons to Earth. Mars data is on second table\n",
    "facts_df = table_Facts[1]"
   ]
  },
  {
   "cell_type": "code",
   "execution_count": 7,
   "id": "fde957b2",
   "metadata": {},
   "outputs": [],
   "source": [
    "#Use Pandas to convert the data to a HTML table string.\n",
    "html_table = facts_df.to_html()"
   ]
  },
  {
   "cell_type": "code",
   "execution_count": 14,
   "id": "1f67d39b",
   "metadata": {},
   "outputs": [],
   "source": [
    "#Visit the astrogeology site to obtain high resolution images for each of Mar's hemispheres. (https://marshemispheres.com/)\n",
    "url_hemImages = \"https://marshemispheres.com/\"\n",
    "browser.visit(url_hemImages)\n",
    "\n",
    "#scrape xml data into BeautifulSoup\n",
    "html = browser.html\n",
    "soup = bs(html, \"html.parser\")\n",
    "\n",
    "#get all of the image sources\n",
    "hemImage_sources = soup.findAll('a',{'class':'itemLink'})\n",
    "\n",
    "image_url_list = []\n",
    "for image in hemImage_sources:\n",
    "    image_string = image['href']\n",
    "    image_dict = {\"title\": f'{image_string[:-5]} Hemisphere',\n",
    "                 \"img_url\": url_hemImages + image['href']}\n",
    "    if image_dict not in image_url_list:\n",
    "        image_url_list.append(image_dict)"
   ]
  },
  {
   "cell_type": "code",
   "execution_count": 15,
   "id": "27d03f0e",
   "metadata": {},
   "outputs": [
    {
     "data": {
      "text/plain": [
       "[{'title': 'cerberus Hemisphere',\n",
       "  'img_url': 'https://marshemispheres.com/cerberus.html'},\n",
       " {'title': 'schiaparelli Hemisphere',\n",
       "  'img_url': 'https://marshemispheres.com/schiaparelli.html'},\n",
       " {'title': 'syrtis Hemisphere',\n",
       "  'img_url': 'https://marshemispheres.com/syrtis.html'},\n",
       " {'title': 'valles Hemisphere',\n",
       "  'img_url': 'https://marshemispheres.com/valles.html'},\n",
       " {'title': ' Hemisphere', 'img_url': 'https://marshemispheres.com/#'}]"
      ]
     },
     "execution_count": 15,
     "metadata": {},
     "output_type": "execute_result"
    }
   ],
   "source": [
    "image_url_list"
   ]
  },
  {
   "cell_type": "code",
   "execution_count": 16,
   "id": "4509952e",
   "metadata": {},
   "outputs": [],
   "source": [
    "#close the browser\n",
    "browser.quit()"
   ]
  },
  {
   "cell_type": "code",
   "execution_count": null,
   "id": "0ef609bf",
   "metadata": {},
   "outputs": [],
   "source": []
  }
 ],
 "metadata": {
  "kernelspec": {
   "display_name": "Python 3 (ipykernel)",
   "language": "python",
   "name": "python3"
  },
  "language_info": {
   "codemirror_mode": {
    "name": "ipython",
    "version": 3
   },
   "file_extension": ".py",
   "mimetype": "text/x-python",
   "name": "python",
   "nbconvert_exporter": "python",
   "pygments_lexer": "ipython3",
   "version": "3.9.7"
  }
 },
 "nbformat": 4,
 "nbformat_minor": 5
}
